{
  "cells": [
    {
      "cell_type": "markdown",
      "source": [
        "## Isi nama dan NIM seluruh anggota kelompok IF-44-11\n",
        "#   Nama    NIM\n",
        "#   Edward Billy Hadipuspito - 1301201291\n",
        "#   Farhan Tirta Kesumah - 1301204108\n",
        "#   Caesar Fanany - 1301204144\n",
        "#   Ryan Chandra Hadi - 1301204125\n",
        "#   \n",
        "#   "
      ],
      "metadata": {
        "id": "OaJxaGIisSBt"
      }
    },
    {
      "cell_type": "code",
      "execution_count": 192,
      "metadata": {
        "id": "5immUoRCAAgC"
      },
      "outputs": [],
      "source": [
        "import numpy as np\n",
        "import pandas as pd\n",
        "from sklearn.model_selection import train_test_split\n",
        "from sklearn import tree\n"
      ]
    },
    {
      "cell_type": "markdown",
      "metadata": {
        "id": "eIH0DPr1AAgC"
      },
      "source": [
        "# Load Dataset\n",
        "Inisialisasi variable, masukan NIM di sini untuk random state.\n",
        "\n",
        "Gunakan NIM salah satu anggota kelompok.\n",
        "\n"
      ]
    },
    {
      "cell_type": "code",
      "execution_count": 193,
      "metadata": {
        "id": "fa7HFRR1AAgD"
      },
      "outputs": [],
      "source": [
        "filepath = \"https://raw.githubusercontent.com/bloodsking/teambased/main/seeds_dataset.csv\"\n",
        "\n",
        "# Isi nim anda di sini\n",
        "nim = 1301204125"
      ]
    },
    {
      "cell_type": "markdown",
      "metadata": {
        "id": "Y4ZtJZ1WAAgE"
      },
      "source": [
        "Load dataset, cek konten data\n",
        "\n",
        "Target kelas: **Category** "
      ]
    },
    {
      "cell_type": "code",
      "execution_count": 194,
      "metadata": {
        "colab": {
          "base_uri": "https://localhost:8080/",
          "height": 363
        },
        "id": "dWgMiM63AAgE",
        "outputId": "1b269b53-9e67-48b2-9924-15eedb000c40"
      },
      "outputs": [
        {
          "output_type": "execute_result",
          "data": {
            "text/plain": [
              "      Area  Perimeter  Compactness  Kernel_len  Kernel_width  Assymetry  \\\n",
              "199  12.76      13.38       0.8964       5.073         3.155      2.828   \n",
              "51   15.78      14.91       0.8923       5.674         3.434      5.593   \n",
              "26   13.02      13.76       0.8641       5.395         3.026      3.373   \n",
              "190  10.93      12.80       0.8390       5.046         2.717      5.398   \n",
              "33   13.94      14.17       0.8728       5.585         3.150      2.124   \n",
              "28   14.11      14.18       0.8820       5.541         3.221      2.754   \n",
              "116  18.96      16.20       0.9077       6.051         3.897      4.334   \n",
              "201  12.67      13.32       0.8977       4.984         3.135      2.300   \n",
              "107  17.63      15.86       0.8800       6.033         3.573      3.747   \n",
              "168  11.35      13.12       0.8291       5.176         2.668      4.337   \n",
              "\n",
              "     Groove_len  Category  \n",
              "199       4.830         3  \n",
              "51        5.136         1  \n",
              "26        4.825         1  \n",
              "190       5.045         3  \n",
              "33        5.012         1  \n",
              "28        5.038         1  \n",
              "116       5.750         2  \n",
              "201       4.745         3  \n",
              "107       5.929         2  \n",
              "168       5.132         3  "
            ],
            "text/html": [
              "\n",
              "  <div id=\"df-15fd9634-0431-452d-aab8-7f9fd8a0c872\">\n",
              "    <div class=\"colab-df-container\">\n",
              "      <div>\n",
              "<style scoped>\n",
              "    .dataframe tbody tr th:only-of-type {\n",
              "        vertical-align: middle;\n",
              "    }\n",
              "\n",
              "    .dataframe tbody tr th {\n",
              "        vertical-align: top;\n",
              "    }\n",
              "\n",
              "    .dataframe thead th {\n",
              "        text-align: right;\n",
              "    }\n",
              "</style>\n",
              "<table border=\"1\" class=\"dataframe\">\n",
              "  <thead>\n",
              "    <tr style=\"text-align: right;\">\n",
              "      <th></th>\n",
              "      <th>Area</th>\n",
              "      <th>Perimeter</th>\n",
              "      <th>Compactness</th>\n",
              "      <th>Kernel_len</th>\n",
              "      <th>Kernel_width</th>\n",
              "      <th>Assymetry</th>\n",
              "      <th>Groove_len</th>\n",
              "      <th>Category</th>\n",
              "    </tr>\n",
              "  </thead>\n",
              "  <tbody>\n",
              "    <tr>\n",
              "      <th>199</th>\n",
              "      <td>12.76</td>\n",
              "      <td>13.38</td>\n",
              "      <td>0.8964</td>\n",
              "      <td>5.073</td>\n",
              "      <td>3.155</td>\n",
              "      <td>2.828</td>\n",
              "      <td>4.830</td>\n",
              "      <td>3</td>\n",
              "    </tr>\n",
              "    <tr>\n",
              "      <th>51</th>\n",
              "      <td>15.78</td>\n",
              "      <td>14.91</td>\n",
              "      <td>0.8923</td>\n",
              "      <td>5.674</td>\n",
              "      <td>3.434</td>\n",
              "      <td>5.593</td>\n",
              "      <td>5.136</td>\n",
              "      <td>1</td>\n",
              "    </tr>\n",
              "    <tr>\n",
              "      <th>26</th>\n",
              "      <td>13.02</td>\n",
              "      <td>13.76</td>\n",
              "      <td>0.8641</td>\n",
              "      <td>5.395</td>\n",
              "      <td>3.026</td>\n",
              "      <td>3.373</td>\n",
              "      <td>4.825</td>\n",
              "      <td>1</td>\n",
              "    </tr>\n",
              "    <tr>\n",
              "      <th>190</th>\n",
              "      <td>10.93</td>\n",
              "      <td>12.80</td>\n",
              "      <td>0.8390</td>\n",
              "      <td>5.046</td>\n",
              "      <td>2.717</td>\n",
              "      <td>5.398</td>\n",
              "      <td>5.045</td>\n",
              "      <td>3</td>\n",
              "    </tr>\n",
              "    <tr>\n",
              "      <th>33</th>\n",
              "      <td>13.94</td>\n",
              "      <td>14.17</td>\n",
              "      <td>0.8728</td>\n",
              "      <td>5.585</td>\n",
              "      <td>3.150</td>\n",
              "      <td>2.124</td>\n",
              "      <td>5.012</td>\n",
              "      <td>1</td>\n",
              "    </tr>\n",
              "    <tr>\n",
              "      <th>28</th>\n",
              "      <td>14.11</td>\n",
              "      <td>14.18</td>\n",
              "      <td>0.8820</td>\n",
              "      <td>5.541</td>\n",
              "      <td>3.221</td>\n",
              "      <td>2.754</td>\n",
              "      <td>5.038</td>\n",
              "      <td>1</td>\n",
              "    </tr>\n",
              "    <tr>\n",
              "      <th>116</th>\n",
              "      <td>18.96</td>\n",
              "      <td>16.20</td>\n",
              "      <td>0.9077</td>\n",
              "      <td>6.051</td>\n",
              "      <td>3.897</td>\n",
              "      <td>4.334</td>\n",
              "      <td>5.750</td>\n",
              "      <td>2</td>\n",
              "    </tr>\n",
              "    <tr>\n",
              "      <th>201</th>\n",
              "      <td>12.67</td>\n",
              "      <td>13.32</td>\n",
              "      <td>0.8977</td>\n",
              "      <td>4.984</td>\n",
              "      <td>3.135</td>\n",
              "      <td>2.300</td>\n",
              "      <td>4.745</td>\n",
              "      <td>3</td>\n",
              "    </tr>\n",
              "    <tr>\n",
              "      <th>107</th>\n",
              "      <td>17.63</td>\n",
              "      <td>15.86</td>\n",
              "      <td>0.8800</td>\n",
              "      <td>6.033</td>\n",
              "      <td>3.573</td>\n",
              "      <td>3.747</td>\n",
              "      <td>5.929</td>\n",
              "      <td>2</td>\n",
              "    </tr>\n",
              "    <tr>\n",
              "      <th>168</th>\n",
              "      <td>11.35</td>\n",
              "      <td>13.12</td>\n",
              "      <td>0.8291</td>\n",
              "      <td>5.176</td>\n",
              "      <td>2.668</td>\n",
              "      <td>4.337</td>\n",
              "      <td>5.132</td>\n",
              "      <td>3</td>\n",
              "    </tr>\n",
              "  </tbody>\n",
              "</table>\n",
              "</div>\n",
              "      <button class=\"colab-df-convert\" onclick=\"convertToInteractive('df-15fd9634-0431-452d-aab8-7f9fd8a0c872')\"\n",
              "              title=\"Convert this dataframe to an interactive table.\"\n",
              "              style=\"display:none;\">\n",
              "        \n",
              "  <svg xmlns=\"http://www.w3.org/2000/svg\" height=\"24px\"viewBox=\"0 0 24 24\"\n",
              "       width=\"24px\">\n",
              "    <path d=\"M0 0h24v24H0V0z\" fill=\"none\"/>\n",
              "    <path d=\"M18.56 5.44l.94 2.06.94-2.06 2.06-.94-2.06-.94-.94-2.06-.94 2.06-2.06.94zm-11 1L8.5 8.5l.94-2.06 2.06-.94-2.06-.94L8.5 2.5l-.94 2.06-2.06.94zm10 10l.94 2.06.94-2.06 2.06-.94-2.06-.94-.94-2.06-.94 2.06-2.06.94z\"/><path d=\"M17.41 7.96l-1.37-1.37c-.4-.4-.92-.59-1.43-.59-.52 0-1.04.2-1.43.59L10.3 9.45l-7.72 7.72c-.78.78-.78 2.05 0 2.83L4 21.41c.39.39.9.59 1.41.59.51 0 1.02-.2 1.41-.59l7.78-7.78 2.81-2.81c.8-.78.8-2.07 0-2.86zM5.41 20L4 18.59l7.72-7.72 1.47 1.35L5.41 20z\"/>\n",
              "  </svg>\n",
              "      </button>\n",
              "      \n",
              "  <style>\n",
              "    .colab-df-container {\n",
              "      display:flex;\n",
              "      flex-wrap:wrap;\n",
              "      gap: 12px;\n",
              "    }\n",
              "\n",
              "    .colab-df-convert {\n",
              "      background-color: #E8F0FE;\n",
              "      border: none;\n",
              "      border-radius: 50%;\n",
              "      cursor: pointer;\n",
              "      display: none;\n",
              "      fill: #1967D2;\n",
              "      height: 32px;\n",
              "      padding: 0 0 0 0;\n",
              "      width: 32px;\n",
              "    }\n",
              "\n",
              "    .colab-df-convert:hover {\n",
              "      background-color: #E2EBFA;\n",
              "      box-shadow: 0px 1px 2px rgba(60, 64, 67, 0.3), 0px 1px 3px 1px rgba(60, 64, 67, 0.15);\n",
              "      fill: #174EA6;\n",
              "    }\n",
              "\n",
              "    [theme=dark] .colab-df-convert {\n",
              "      background-color: #3B4455;\n",
              "      fill: #D2E3FC;\n",
              "    }\n",
              "\n",
              "    [theme=dark] .colab-df-convert:hover {\n",
              "      background-color: #434B5C;\n",
              "      box-shadow: 0px 1px 3px 1px rgba(0, 0, 0, 0.15);\n",
              "      filter: drop-shadow(0px 1px 2px rgba(0, 0, 0, 0.3));\n",
              "      fill: #FFFFFF;\n",
              "    }\n",
              "  </style>\n",
              "\n",
              "      <script>\n",
              "        const buttonEl =\n",
              "          document.querySelector('#df-15fd9634-0431-452d-aab8-7f9fd8a0c872 button.colab-df-convert');\n",
              "        buttonEl.style.display =\n",
              "          google.colab.kernel.accessAllowed ? 'block' : 'none';\n",
              "\n",
              "        async function convertToInteractive(key) {\n",
              "          const element = document.querySelector('#df-15fd9634-0431-452d-aab8-7f9fd8a0c872');\n",
              "          const dataTable =\n",
              "            await google.colab.kernel.invokeFunction('convertToInteractive',\n",
              "                                                     [key], {});\n",
              "          if (!dataTable) return;\n",
              "\n",
              "          const docLinkHtml = 'Like what you see? Visit the ' +\n",
              "            '<a target=\"_blank\" href=https://colab.research.google.com/notebooks/data_table.ipynb>data table notebook</a>'\n",
              "            + ' to learn more about interactive tables.';\n",
              "          element.innerHTML = '';\n",
              "          dataTable['output_type'] = 'display_data';\n",
              "          await google.colab.output.renderOutput(dataTable, element);\n",
              "          const docLink = document.createElement('div');\n",
              "          docLink.innerHTML = docLinkHtml;\n",
              "          element.appendChild(docLink);\n",
              "        }\n",
              "      </script>\n",
              "    </div>\n",
              "  </div>\n",
              "  "
            ]
          },
          "metadata": {},
          "execution_count": 194
        }
      ],
      "source": [
        "df = pd.read_csv(filepath, sep=\"\\t\")\n",
        "df.sample(10, random_state=nim)"
      ]
    },
    {
      "cell_type": "markdown",
      "metadata": {
        "id": "lYsPjmnPAAgF"
      },
      "source": [
        "Training/test split **60/40**"
      ]
    },
    {
      "cell_type": "code",
      "execution_count": 195,
      "metadata": {
        "colab": {
          "base_uri": "https://localhost:8080/"
        },
        "id": "Q-ZXR606AAgF",
        "outputId": "a927609c-b828-4169-8a8b-9ff6f0dcbe6b"
      },
      "outputs": [
        {
          "output_type": "execute_result",
          "data": {
            "text/plain": [
              "(126, 84)"
            ]
          },
          "metadata": {},
          "execution_count": 195
        }
      ],
      "source": [
        "# X: semua kolom, Y: kolom terakhir (category)\n",
        "x = df.iloc[:, 0:-1]\n",
        "y = df.iloc[:, -1]\n",
        "x_train, x_test, y_train, y_test = train_test_split(x, y, train_size=0.6, random_state=nim)\n",
        "\n",
        "# We perform bootstrap on the train data\n",
        "# Keep test data for final accuracy testing\n",
        "len(x_train), len(x_test)"
      ]
    },
    {
      "cell_type": "code",
      "source": [
        "# Hitung jumlah fitur yang dipergunakan\n",
        "nr_features = len(x_train.columns)\n",
        "\n",
        "# Bangun decision tree menggunakan entropy, dengan batasan max_depth = nr_feature + 1\n",
        "# Note: Kedalaman tree dibatasi untuk mempermudah visualisasi\n",
        "rf_model = tree.DecisionTreeClassifier(criterion=\"entropy\", max_depth=nr_features+1)\n",
        "rf_model = rf_model.fit(x_train, y_train)"
      ],
      "metadata": {
        "id": "LzlsyZsUDJ3z"
      },
      "execution_count": 196,
      "outputs": []
    },
    {
      "cell_type": "markdown",
      "metadata": {
        "id": "zMPci64JAAgG"
      },
      "source": [
        "# Random Forest\n",
        "Build a Random Forest, consisting of 20 Decision Tree classifer, with the following steps:\n",
        "\n",
        "1. Prepare Bootstrap data (choose randomly from the *training data*, use sampling with replacement)\n",
        "2. Choose 2-4 random features/atributes for each tree\n",
        "3. Build Decision Tree classifier using step (1) and (2)\n",
        "4. Calculate OOB score within the tree only\n",
        "\n",
        "**NOTE**\n",
        "This whole exercise has been simplified.\n",
        "- Tree can be created using a library, therefore you may not be able control the feature selection on node level\n",
        "- Random features are only selected in the beginning of each tree.\n",
        "- OOB score is only calculated within its own tree instead.\n",
        "- Typically Random Forest don't use train/test split and can be validated using OOB error. We simplify this to make it easier to test.\n",
        "- You are not allowed to use a Random Forest or Bagging library.\n"
      ]
    },
    {
      "cell_type": "code",
      "execution_count": 209,
      "metadata": {
        "colab": {
          "base_uri": "https://localhost:8080/"
        },
        "id": "ujVOoQj2AAgG",
        "outputId": "3ec702e9-59c9-4566-e26b-54ec9abf76d0"
      },
      "outputs": [
        {
          "output_type": "stream",
          "name": "stdout",
          "text": [
            "Tree 1: OOB Score = 0.830\n",
            "nr of OOB : 53\n",
            "Selected Column or Atribute : ['Groove_len' 'Kernel_len']\n",
            "\n",
            "Tree 2: OOB Score = 0.809\n",
            "nr of OOB : 47\n",
            "Selected Column or Atribute : ['Area' 'Area']\n",
            "\n",
            "Tree 3: OOB Score = 0.818\n",
            "nr of OOB : 44\n",
            "Selected Column or Atribute : ['Compactness' 'Groove_len']\n",
            "\n",
            "Tree 4: OOB Score = 0.886\n",
            "nr of OOB : 44\n",
            "Selected Column or Atribute : ['Area' 'Groove_len' 'Kernel_width']\n",
            "\n",
            "Tree 5: OOB Score = 0.857\n",
            "nr of OOB : 42\n",
            "Selected Column or Atribute : ['Kernel_len' 'Compactness' 'Groove_len']\n",
            "\n",
            "Tree 6: OOB Score = 0.756\n",
            "nr of OOB : 41\n",
            "Selected Column or Atribute : ['Kernel_width' 'Perimeter' 'Perimeter']\n",
            "\n",
            "Tree 7: OOB Score = 0.833\n",
            "nr of OOB : 48\n",
            "Selected Column or Atribute : ['Area' 'Groove_len']\n",
            "\n",
            "Tree 8: OOB Score = 0.750\n",
            "nr of OOB : 44\n",
            "Selected Column or Atribute : ['Assymetry' 'Perimeter' 'Kernel_len']\n",
            "\n",
            "Tree 9: OOB Score = 0.729\n",
            "nr of OOB : 48\n",
            "Selected Column or Atribute : ['Perimeter' 'Kernel_width' 'Kernel_len']\n",
            "\n",
            "Tree 10: OOB Score = 0.826\n",
            "nr of OOB : 46\n",
            "Selected Column or Atribute : ['Kernel_width' 'Perimeter']\n",
            "\n",
            "Tree 11: OOB Score = 0.822\n",
            "nr of OOB : 45\n",
            "Selected Column or Atribute : ['Assymetry' 'Area' 'Compactness']\n",
            "\n",
            "Tree 12: OOB Score = 0.727\n",
            "nr of OOB : 44\n",
            "Selected Column or Atribute : ['Compactness' 'Area' 'Perimeter']\n",
            "\n",
            "Tree 13: OOB Score = 0.489\n",
            "nr of OOB : 45\n",
            "Selected Column or Atribute : ['Assymetry' 'Assymetry' 'Compactness']\n",
            "\n",
            "Tree 14: OOB Score = 0.827\n",
            "nr of OOB : 52\n",
            "Selected Column or Atribute : ['Assymetry' 'Kernel_width' 'Kernel_len']\n",
            "\n",
            "Tree 15: OOB Score = 0.824\n",
            "nr of OOB : 51\n",
            "Selected Column or Atribute : ['Compactness' 'Kernel_len']\n",
            "\n",
            "Tree 16: OOB Score = 0.878\n",
            "nr of OOB : 49\n",
            "Selected Column or Atribute : ['Groove_len' 'Assymetry']\n",
            "\n",
            "Tree 17: OOB Score = 0.917\n",
            "nr of OOB : 48\n",
            "Selected Column or Atribute : ['Area' 'Perimeter']\n",
            "\n",
            "Tree 18: OOB Score = 0.936\n",
            "nr of OOB : 47\n",
            "Selected Column or Atribute : ['Assymetry' 'Perimeter' 'Area']\n",
            "\n",
            "Tree 19: OOB Score = 0.868\n",
            "nr of OOB : 53\n",
            "Selected Column or Atribute : ['Perimeter' 'Kernel_width' 'Groove_len']\n",
            "\n",
            "Tree 20: OOB Score = 0.708\n",
            "nr of OOB : 48\n",
            "Selected Column or Atribute : ['Area' 'Kernel_len']\n",
            "\n"
          ]
        }
      ],
      "source": [
        "np.random.seed(nim)\n",
        "n_tree = 20\n",
        "\n",
        "forest = []\n",
        "bootstrap_columns = []\n",
        "for i in range(n_tree):\n",
        "    # 1. Bootstrapping\n",
        "    # select random rows\n",
        "    rows = np.random.choice(x_train.index, size=len(x_train), replace=True)\n",
        "    x_bootstrap = x_train.loc[rows]\n",
        "    y_bootstrap = y_train.loc[rows]\n",
        "\n",
        "    # Out of Bag data\n",
        "    non_selected_rows = np.setdiff1d(x_train.index, rows)\n",
        "    x_oob = x_train.loc[non_selected_rows]\n",
        "    y_oob = y_train.loc[non_selected_rows]\n",
        "\n",
        "    # 2. Select random features (make sure to keep track the selected columns)\n",
        "    # Check for any repeated combinations\n",
        "    feature_taken = np.random.randint(2, 4)\n",
        "    cols = np.random.choice(x_bootstrap.columns, size=feature_taken, replace=True)\n",
        "    bootstrap_columns.append(cols)\n",
        "\n",
        "    # filter based on the selected columns\n",
        "    x_bootstrap = x_bootstrap.loc[:, cols]\n",
        "\n",
        "    # 3. Build decision tree\n",
        "    # Let it grow, no pruning\n",
        "    tree_model = tree.DecisionTreeClassifier()\n",
        "    tree_model.fit(x_bootstrap, y_bootstrap)\n",
        "\n",
        "    # Add it to the forest\n",
        "    forest.append(tree_model)\n",
        "\n",
        "    # 4. Calculate oob score only within its own tree\n",
        "    # ....\n",
        "    oob_score = tree_model.score(x_oob.loc[:, cols], y_oob)\n",
        "    print(f\"Tree {i+1}: OOB Score = {oob_score:.3f}\")\n",
        "    print(f\"nr of OOB : {len(x_oob)}\")\n",
        "    print(f\"Selected Column or Atribute : {cols}\\n\")\n"
      ]
    },
    {
      "cell_type": "code",
      "source": [],
      "metadata": {
        "id": "Q7-LCjLPFF_p"
      },
      "execution_count": null,
      "outputs": []
    },
    {
      "cell_type": "markdown",
      "metadata": {
        "id": "axb8gocgAAgH"
      },
      "source": [
        "# Prediction and Voting\n",
        "Run prediction on x_test data for each tree\n",
        "\n",
        "Also calculate accuracy per tree here"
      ]
    },
    {
      "cell_type": "code",
      "execution_count": 201,
      "metadata": {
        "id": "0SmrXc7eAAgH",
        "colab": {
          "base_uri": "https://localhost:8080/"
        },
        "outputId": "bb25e61e-d92e-418d-e992-3cac9084824b"
      },
      "outputs": [
        {
          "output_type": "stream",
          "name": "stdout",
          "text": [
            "0.8571428571428571\n",
            "0.8809523809523809\n",
            "0.7857142857142857\n",
            "0.8452380952380952\n",
            "0.8571428571428571\n",
            "0.8095238095238095\n",
            "0.9285714285714286\n",
            "0.7857142857142857\n",
            "0.8214285714285714\n",
            "0.7738095238095238\n",
            "0.8928571428571429\n",
            "0.8214285714285714\n",
            "0.5119047619047619\n",
            "0.7738095238095238\n",
            "0.8333333333333334\n",
            "0.7857142857142857\n",
            "0.8095238095238095\n",
            "0.8690476190476191\n",
            "0.8452380952380952\n",
            "0.7380952380952381\n"
          ]
        }
      ],
      "source": [
        "all_preds = []\n",
        "for i, tree_model in enumerate(forest):\n",
        "    # Each tree has different column requirements\n",
        "    # Make sure you use the correct columns for each tree\n",
        "    x_test_filtered = x_test.loc[:, bootstrap_columns[i]]\n",
        "    \n",
        "    predictions = tree_model.predict(x_test_filtered)\n",
        "\n",
        "    # Might as well calculate accuracy per tree here...\n",
        "\n",
        "    # acc = np.mean(predictions == y_test)\n",
        "    acc = tree_model.score(x_test_filtered, y_test)\n",
        "    print(acc)\n",
        "    # add it to all_preds for voting later\n",
        "    all_preds.append(predictions)\n",
        "    \n",
        "\n",
        "all_preds = np.array(all_preds)"
      ]
    },
    {
      "cell_type": "markdown",
      "metadata": {
        "id": "4OBpwPw4AAgH"
      },
      "source": [
        "### Perform voting on the predictions from the Random Forest"
      ]
    },
    {
      "cell_type": "code",
      "execution_count": 202,
      "metadata": {
        "colab": {
          "base_uri": "https://localhost:8080/"
        },
        "id": "aQpPEzDdAAgI",
        "outputId": "ff709bcc-aaa3-45f2-c893-6d35713fba6d"
      },
      "outputs": [
        {
          "output_type": "execute_result",
          "data": {
            "text/plain": [
              "0.9166666666666666"
            ]
          },
          "metadata": {},
          "execution_count": 202
        }
      ],
      "source": [
        "# Insert voting code here\n",
        "voted_predictions = np.apply_along_axis(lambda x: np.bincount(x).argmax(), axis=0, arr=all_preds)\n",
        "\n",
        "# Calculate accuracy of Test data on the Forest\n",
        "acc = np.mean(voted_predictions == y_test)\n",
        "acc\n",
        "\n"
      ]
    },
    {
      "cell_type": "code",
      "source": [
        "import matplotlib.pyplot as plt\n",
        "fig, ax = plt.subplots(figsize=(15, 10))\n",
        "tree.plot_tree(tree_model, ax=ax, feature_names=x_train.columns, class_names=y_train.unique().astype(str))\n",
        "plt.show()"
      ],
      "metadata": {
        "colab": {
          "base_uri": "https://localhost:8080/",
          "height": 575
        },
        "id": "HKaVUwzzIqKl",
        "outputId": "6f3c8618-e55a-4446-ff24-92d1f058b9fe"
      },
      "execution_count": 203,
      "outputs": [
        {
          "output_type": "display_data",
          "data": {
            "text/plain": [
              "<Figure size 1080x720 with 1 Axes>"
            ],
            "image/png": "[encoded data removed]"
          },
          "metadata": {
            "needs_background": "light"
          }
        }
      ]
    },
    {
      "cell_type": "markdown",
      "metadata": {
        "id": "fhO8zrtiAAgI"
      },
      "source": [
        "After you're done with all this, please check the excel file and put the answers for every column there."
      ]
    }
  ],
  "metadata": {
    "kernelspec": {
      "display_name": "Python 3.10.8 ('tugas3')",
      "language": "python",
      "name": "python3"
    },
    "language_info": {
      "codemirror_mode": {
        "name": "ipython",
        "version": 3
      },
      "file_extension": ".py",
      "mimetype": "text/x-python",
      "name": "python",
      "nbconvert_exporter": "python",
      "pygments_lexer": "ipython3",
      "version": "3.10.8"
    },
    "orig_nbformat": 4,
    "vscode": {
      "interpreter": {
        "hash": "486ee4d26de12a9ebc4c044e4309648e10037d9316726c9d112e2ad4a1fad8b4"
      }
    },
    "colab": {
      "provenance": []
    }
  },
  "nbformat": 4,
  "nbformat_minor": 0
}